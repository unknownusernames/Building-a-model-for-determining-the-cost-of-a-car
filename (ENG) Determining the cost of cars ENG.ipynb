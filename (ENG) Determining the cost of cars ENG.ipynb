{
 "cells": [
  {
   "cell_type": "markdown",
   "id": "d42c0d38",
   "metadata": {
    "toc": true
   },
   "source": [
    "<h1>Table of Contents<span class=\"tocSkip\"></span></h1>\n",
    "<div class=\"toc\"><ul class=\"toc-item\"><li><span><a href=\"#Data-preparation\" data-toc-modified-id=\"Data-preparation-1\"><span class=\"toc-item-num\">1&nbsp;&nbsp;</span>Data preparation</a></span></li><li><span><a href=\"#Model-training\" data-toc-modified-id=\"Model-training-2\"><span class=\"toc-item-num\">2&nbsp;&nbsp;</span>Model training</a></span><ul class=\"toc-item\"><li><span><a href=\"#LGBMRegressor\" data-toc-modified-id=\"LGBMRegressor-2.1\"><span class=\"toc-item-num\">2.1&nbsp;&nbsp;</span>LGBMRegressor</a></span></li><li><span><a href=\"#CatBoostRegressor\" data-toc-modified-id=\"CatBoostRegressor-2.2\"><span class=\"toc-item-num\">2.2&nbsp;&nbsp;</span>CatBoostRegressor</a></span></li><li><span><a href=\"#RandomForestRegressor\" data-toc-modified-id=\"RandomForestRegressor-2.3\"><span class=\"toc-item-num\">2.3&nbsp;&nbsp;</span>RandomForestRegressor</a></span></li></ul></li><li><span><a href=\"#Model-analysis\" data-toc-modified-id=\"Model-analysis-3\"><span class=\"toc-item-num\">3&nbsp;&nbsp;</span>Model analysis</a></span><ul class=\"toc-item\"><li><span><a href=\"#LGBMRegressor\" data-toc-modified-id=\"LGBMRegressor-3.1\"><span class=\"toc-item-num\">3.1&nbsp;&nbsp;</span>LGBMRegressor</a></span></li><li><span><a href=\"#CatBoostRegressor\" data-toc-modified-id=\"CatBoostRegressor-3.2\"><span class=\"toc-item-num\">3.2&nbsp;&nbsp;</span>CatBoostRegressor</a></span></li><li><span><a href=\"#RandomForestRegressor\" data-toc-modified-id=\"RandomForestRegressor-3.3\"><span class=\"toc-item-num\">3.3&nbsp;&nbsp;</span>RandomForestRegressor</a></span></li></ul></li><li><span><a href=\"#Testing-the-CatBoostRegressor-model\" data-toc-modified-id=\"Testing-the-CatBoostRegressor-model-4\"><span class=\"toc-item-num\">4&nbsp;&nbsp;</span>Testing the CatBoostRegressor model</a></span></li><li><span><a href=\"#Conclusion\" data-toc-modified-id=\"Conclusion-5\"><span class=\"toc-item-num\">5&nbsp;&nbsp;</span>Conclusion</a></span></li></ul></div>"
   ]
  },
  {
   "cell_type": "markdown",
   "id": "642b4148",
   "metadata": {},
   "source": [
    "# Determining the cost of cars"
   ]
  },
  {
   "cell_type": "markdown",
   "id": "b0c13e9b",
   "metadata": {},
   "source": [
    "The service for the sale of used cars \"Not beaten, not painted\" is developing an application to attract new customers. In it, you can quickly find out the market value of your car. Historical data is at your disposal: technical specifications, complete sets and prices of cars. You need to build a model to determine the cost. \n",
    "\n",
    "Important to the customer:\n",
    "\n",
    "- prediction quality;\n",
    "- prediction speed;\n",
    "- training time."
   ]
  },
  {
   "cell_type": "markdown",
   "id": "dd542d92",
   "metadata": {},
   "source": [
    "## Data preparation"
   ]
  },
  {
   "cell_type": "markdown",
   "id": "41ede63b",
   "metadata": {},
   "source": [
    "Importing the necessary libraries"
   ]
  },
  {
   "cell_type": "code",
   "execution_count": 1,
   "id": "0c061475",
   "metadata": {},
   "outputs": [],
   "source": [
    "import pandas as pd\n",
    "import numpy as np\n",
    "import matplotlib.pyplot as plt\n",
    "\n",
    "from catboost import CatBoostRegressor\n",
    "from lightgbm import LGBMRegressor\n",
    "from sklearn.linear_model import LinearRegression\n",
    "from sklearn.ensemble import RandomForestRegressor\n",
    "\n",
    "from sklearn.metrics import mean_squared_error\n",
    "from sklearn.model_selection import train_test_split\n",
    "\n",
    "from sklearn.preprocessing import StandardScaler\n",
    "from sklearn.preprocessing import LabelEncoder\n",
    "from sklearn.decomposition import PCA"
   ]
  },
  {
   "cell_type": "code",
   "execution_count": 2,
   "id": "dba85c01",
   "metadata": {},
   "outputs": [
    {
     "data": {
      "text/html": [
       "<div>\n",
       "<style scoped>\n",
       "    .dataframe tbody tr th:only-of-type {\n",
       "        vertical-align: middle;\n",
       "    }\n",
       "\n",
       "    .dataframe tbody tr th {\n",
       "        vertical-align: top;\n",
       "    }\n",
       "\n",
       "    .dataframe thead th {\n",
       "        text-align: right;\n",
       "    }\n",
       "</style>\n",
       "<table border=\"1\" class=\"dataframe\">\n",
       "  <thead>\n",
       "    <tr style=\"text-align: right;\">\n",
       "      <th></th>\n",
       "      <th>DateCrawled</th>\n",
       "      <th>Price</th>\n",
       "      <th>VehicleType</th>\n",
       "      <th>RegistrationYear</th>\n",
       "      <th>Gearbox</th>\n",
       "      <th>Power</th>\n",
       "      <th>Model</th>\n",
       "      <th>Kilometer</th>\n",
       "      <th>RegistrationMonth</th>\n",
       "      <th>FuelType</th>\n",
       "      <th>Brand</th>\n",
       "      <th>Repaired</th>\n",
       "      <th>DateCreated</th>\n",
       "      <th>NumberOfPictures</th>\n",
       "      <th>PostalCode</th>\n",
       "      <th>LastSeen</th>\n",
       "    </tr>\n",
       "  </thead>\n",
       "  <tbody>\n",
       "    <tr>\n",
       "      <th>0</th>\n",
       "      <td>2016-03-24 11:52:17</td>\n",
       "      <td>480</td>\n",
       "      <td>NaN</td>\n",
       "      <td>1993</td>\n",
       "      <td>manual</td>\n",
       "      <td>0</td>\n",
       "      <td>golf</td>\n",
       "      <td>150000</td>\n",
       "      <td>0</td>\n",
       "      <td>petrol</td>\n",
       "      <td>volkswagen</td>\n",
       "      <td>NaN</td>\n",
       "      <td>2016-03-24 00:00:00</td>\n",
       "      <td>0</td>\n",
       "      <td>70435</td>\n",
       "      <td>2016-04-07 03:16:57</td>\n",
       "    </tr>\n",
       "    <tr>\n",
       "      <th>1</th>\n",
       "      <td>2016-03-24 10:58:45</td>\n",
       "      <td>18300</td>\n",
       "      <td>coupe</td>\n",
       "      <td>2011</td>\n",
       "      <td>manual</td>\n",
       "      <td>190</td>\n",
       "      <td>NaN</td>\n",
       "      <td>125000</td>\n",
       "      <td>5</td>\n",
       "      <td>gasoline</td>\n",
       "      <td>audi</td>\n",
       "      <td>yes</td>\n",
       "      <td>2016-03-24 00:00:00</td>\n",
       "      <td>0</td>\n",
       "      <td>66954</td>\n",
       "      <td>2016-04-07 01:46:50</td>\n",
       "    </tr>\n",
       "    <tr>\n",
       "      <th>2</th>\n",
       "      <td>2016-03-14 12:52:21</td>\n",
       "      <td>9800</td>\n",
       "      <td>suv</td>\n",
       "      <td>2004</td>\n",
       "      <td>auto</td>\n",
       "      <td>163</td>\n",
       "      <td>grand</td>\n",
       "      <td>125000</td>\n",
       "      <td>8</td>\n",
       "      <td>gasoline</td>\n",
       "      <td>jeep</td>\n",
       "      <td>NaN</td>\n",
       "      <td>2016-03-14 00:00:00</td>\n",
       "      <td>0</td>\n",
       "      <td>90480</td>\n",
       "      <td>2016-04-05 12:47:46</td>\n",
       "    </tr>\n",
       "    <tr>\n",
       "      <th>3</th>\n",
       "      <td>2016-03-17 16:54:04</td>\n",
       "      <td>1500</td>\n",
       "      <td>small</td>\n",
       "      <td>2001</td>\n",
       "      <td>manual</td>\n",
       "      <td>75</td>\n",
       "      <td>golf</td>\n",
       "      <td>150000</td>\n",
       "      <td>6</td>\n",
       "      <td>petrol</td>\n",
       "      <td>volkswagen</td>\n",
       "      <td>no</td>\n",
       "      <td>2016-03-17 00:00:00</td>\n",
       "      <td>0</td>\n",
       "      <td>91074</td>\n",
       "      <td>2016-03-17 17:40:17</td>\n",
       "    </tr>\n",
       "    <tr>\n",
       "      <th>4</th>\n",
       "      <td>2016-03-31 17:25:20</td>\n",
       "      <td>3600</td>\n",
       "      <td>small</td>\n",
       "      <td>2008</td>\n",
       "      <td>manual</td>\n",
       "      <td>69</td>\n",
       "      <td>fabia</td>\n",
       "      <td>90000</td>\n",
       "      <td>7</td>\n",
       "      <td>gasoline</td>\n",
       "      <td>skoda</td>\n",
       "      <td>no</td>\n",
       "      <td>2016-03-31 00:00:00</td>\n",
       "      <td>0</td>\n",
       "      <td>60437</td>\n",
       "      <td>2016-04-06 10:17:21</td>\n",
       "    </tr>\n",
       "  </tbody>\n",
       "</table>\n",
       "</div>"
      ],
      "text/plain": [
       "           DateCrawled  Price VehicleType  RegistrationYear Gearbox  Power  \\\n",
       "0  2016-03-24 11:52:17    480         NaN              1993  manual      0   \n",
       "1  2016-03-24 10:58:45  18300       coupe              2011  manual    190   \n",
       "2  2016-03-14 12:52:21   9800         suv              2004    auto    163   \n",
       "3  2016-03-17 16:54:04   1500       small              2001  manual     75   \n",
       "4  2016-03-31 17:25:20   3600       small              2008  manual     69   \n",
       "\n",
       "   Model  Kilometer  RegistrationMonth  FuelType       Brand Repaired  \\\n",
       "0   golf     150000                  0    petrol  volkswagen      NaN   \n",
       "1    NaN     125000                  5  gasoline        audi      yes   \n",
       "2  grand     125000                  8  gasoline        jeep      NaN   \n",
       "3   golf     150000                  6    petrol  volkswagen       no   \n",
       "4  fabia      90000                  7  gasoline       skoda       no   \n",
       "\n",
       "           DateCreated  NumberOfPictures  PostalCode             LastSeen  \n",
       "0  2016-03-24 00:00:00                 0       70435  2016-04-07 03:16:57  \n",
       "1  2016-03-24 00:00:00                 0       66954  2016-04-07 01:46:50  \n",
       "2  2016-03-14 00:00:00                 0       90480  2016-04-05 12:47:46  \n",
       "3  2016-03-17 00:00:00                 0       91074  2016-03-17 17:40:17  \n",
       "4  2016-03-31 00:00:00                 0       60437  2016-04-06 10:17:21  "
      ]
     },
     "execution_count": 2,
     "metadata": {},
     "output_type": "execute_result"
    }
   ],
   "source": [
    "df = pd.read_csv('/datasets/autos.csv')\n",
    "df.head()"
   ]
  },
  {
   "cell_type": "markdown",
   "id": "344d8a2e",
   "metadata": {},
   "source": [
    "Let's remove uninformative signs and constant signs: \n",
    "- The date of downloading the questionnaire from the database.\n",
    "- Number of photos.\n",
    "- The date of creation of the questionnaire.\n",
    "- The date of the user's last activity."
   ]
  },
  {
   "cell_type": "code",
   "execution_count": 3,
   "id": "db1e30bc",
   "metadata": {},
   "outputs": [],
   "source": [
    "df = df.drop(['DateCrawled', 'DateCreated', 'LastSeen', 'NumberOfPictures'], axis=1)"
   ]
  },
  {
   "cell_type": "code",
   "execution_count": 4,
   "id": "f3f24933",
   "metadata": {},
   "outputs": [
    {
     "data": {
      "text/plain": [
       "(354369, 12)"
      ]
     },
     "execution_count": 4,
     "metadata": {},
     "output_type": "execute_result"
    }
   ],
   "source": [
    "df.shape"
   ]
  },
  {
   "cell_type": "markdown",
   "id": "53c2b9e4",
   "metadata": {},
   "source": [
    "Checking the missing values"
   ]
  },
  {
   "cell_type": "code",
   "execution_count": 5,
   "id": "d35764ca",
   "metadata": {},
   "outputs": [
    {
     "data": {
      "text/html": [
       "<style  type=\"text/css\" >\n",
       "#T_31ffa_row0_col0,#T_31ffa_row2_col0,#T_31ffa_row4_col0,#T_31ffa_row6_col0,#T_31ffa_row7_col0,#T_31ffa_row9_col0,#T_31ffa_row11_col0{\n",
       "            background-color:  #3b4cc0;\n",
       "            color:  #f1f1f1;\n",
       "        }#T_31ffa_row1_col0{\n",
       "            background-color:  #e9d5cb;\n",
       "            color:  #000000;\n",
       "        }#T_31ffa_row3_col0,#T_31ffa_row5_col0{\n",
       "            background-color:  #9ebeff;\n",
       "            color:  #000000;\n",
       "        }#T_31ffa_row8_col0{\n",
       "            background-color:  #cfdaea;\n",
       "            color:  #000000;\n",
       "        }#T_31ffa_row10_col0{\n",
       "            background-color:  #b40426;\n",
       "            color:  #f1f1f1;\n",
       "        }</style><table id=\"T_31ffa_\" ><thead>    <tr>        <th class=\"blank level0\" ></th>        <th class=\"col_heading level0 col0\" >0</th>    </tr></thead><tbody>\n",
       "                <tr>\n",
       "                        <th id=\"T_31ffa_level0_row0\" class=\"row_heading level0 row0\" >Price</th>\n",
       "                        <td id=\"T_31ffa_row0_col0\" class=\"data row0 col0\" >0.000000</td>\n",
       "            </tr>\n",
       "            <tr>\n",
       "                        <th id=\"T_31ffa_level0_row1\" class=\"row_heading level0 row1\" >VehicleType</th>\n",
       "                        <td id=\"T_31ffa_row1_col0\" class=\"data row1 col0\" >11.000000</td>\n",
       "            </tr>\n",
       "            <tr>\n",
       "                        <th id=\"T_31ffa_level0_row2\" class=\"row_heading level0 row2\" >RegistrationYear</th>\n",
       "                        <td id=\"T_31ffa_row2_col0\" class=\"data row2 col0\" >0.000000</td>\n",
       "            </tr>\n",
       "            <tr>\n",
       "                        <th id=\"T_31ffa_level0_row3\" class=\"row_heading level0 row3\" >Gearbox</th>\n",
       "                        <td id=\"T_31ffa_row3_col0\" class=\"data row3 col0\" >6.000000</td>\n",
       "            </tr>\n",
       "            <tr>\n",
       "                        <th id=\"T_31ffa_level0_row4\" class=\"row_heading level0 row4\" >Power</th>\n",
       "                        <td id=\"T_31ffa_row4_col0\" class=\"data row4 col0\" >0.000000</td>\n",
       "            </tr>\n",
       "            <tr>\n",
       "                        <th id=\"T_31ffa_level0_row5\" class=\"row_heading level0 row5\" >Model</th>\n",
       "                        <td id=\"T_31ffa_row5_col0\" class=\"data row5 col0\" >6.000000</td>\n",
       "            </tr>\n",
       "            <tr>\n",
       "                        <th id=\"T_31ffa_level0_row6\" class=\"row_heading level0 row6\" >Kilometer</th>\n",
       "                        <td id=\"T_31ffa_row6_col0\" class=\"data row6 col0\" >0.000000</td>\n",
       "            </tr>\n",
       "            <tr>\n",
       "                        <th id=\"T_31ffa_level0_row7\" class=\"row_heading level0 row7\" >RegistrationMonth</th>\n",
       "                        <td id=\"T_31ffa_row7_col0\" class=\"data row7 col0\" >0.000000</td>\n",
       "            </tr>\n",
       "            <tr>\n",
       "                        <th id=\"T_31ffa_level0_row8\" class=\"row_heading level0 row8\" >FuelType</th>\n",
       "                        <td id=\"T_31ffa_row8_col0\" class=\"data row8 col0\" >9.000000</td>\n",
       "            </tr>\n",
       "            <tr>\n",
       "                        <th id=\"T_31ffa_level0_row9\" class=\"row_heading level0 row9\" >Brand</th>\n",
       "                        <td id=\"T_31ffa_row9_col0\" class=\"data row9 col0\" >0.000000</td>\n",
       "            </tr>\n",
       "            <tr>\n",
       "                        <th id=\"T_31ffa_level0_row10\" class=\"row_heading level0 row10\" >Repaired</th>\n",
       "                        <td id=\"T_31ffa_row10_col0\" class=\"data row10 col0\" >20.000000</td>\n",
       "            </tr>\n",
       "            <tr>\n",
       "                        <th id=\"T_31ffa_level0_row11\" class=\"row_heading level0 row11\" >PostalCode</th>\n",
       "                        <td id=\"T_31ffa_row11_col0\" class=\"data row11 col0\" >0.000000</td>\n",
       "            </tr>\n",
       "    </tbody></table>"
      ],
      "text/plain": [
       "<pandas.io.formats.style.Styler at 0x7f4d142ff460>"
      ]
     },
     "execution_count": 5,
     "metadata": {},
     "output_type": "execute_result"
    }
   ],
   "source": [
    "pd.DataFrame(round(df.isna().mean() * 100)).style.background_gradient('coolwarm')"
   ]
  },
  {
   "cell_type": "markdown",
   "id": "691afc8b",
   "metadata": {},
   "source": [
    "Fill in the gaps in the \"Repaired\" attribute with the value \"no\", since this is an important characteristic of the car, and if the car was in an accident, the user would be more likely to note this in the questionnaire"
   ]
  },
  {
   "cell_type": "code",
   "execution_count": 6,
   "id": "79a936f8",
   "metadata": {},
   "outputs": [],
   "source": [
    "df['Repaired'] = df['Repaired'].fillna('no')"
   ]
  },
  {
   "cell_type": "markdown",
   "id": "83a7b332",
   "metadata": {},
   "source": [
    "Let's create a summary table with typical characteristics of each car model, so that later we can tie up the values missing in the data from it"
   ]
  },
  {
   "cell_type": "code",
   "execution_count": 7,
   "id": "67d50bdb",
   "metadata": {},
   "outputs": [
    {
     "data": {
      "text/html": [
       "<div>\n",
       "<style scoped>\n",
       "    .dataframe tbody tr th:only-of-type {\n",
       "        vertical-align: middle;\n",
       "    }\n",
       "\n",
       "    .dataframe tbody tr th {\n",
       "        vertical-align: top;\n",
       "    }\n",
       "\n",
       "    .dataframe thead th {\n",
       "        text-align: right;\n",
       "    }\n",
       "</style>\n",
       "<table border=\"1\" class=\"dataframe\">\n",
       "  <thead>\n",
       "    <tr style=\"text-align: right;\">\n",
       "      <th></th>\n",
       "      <th>FuelType</th>\n",
       "      <th>Gearbox</th>\n",
       "      <th>VehicleType</th>\n",
       "    </tr>\n",
       "    <tr>\n",
       "      <th>Model</th>\n",
       "      <th></th>\n",
       "      <th></th>\n",
       "      <th></th>\n",
       "    </tr>\n",
       "  </thead>\n",
       "  <tbody>\n",
       "    <tr>\n",
       "      <th>100</th>\n",
       "      <td>petrol</td>\n",
       "      <td>manual</td>\n",
       "      <td>wagon</td>\n",
       "    </tr>\n",
       "    <tr>\n",
       "      <th>145</th>\n",
       "      <td>petrol</td>\n",
       "      <td>manual</td>\n",
       "      <td>small</td>\n",
       "    </tr>\n",
       "    <tr>\n",
       "      <th>147</th>\n",
       "      <td>gasoline</td>\n",
       "      <td>manual</td>\n",
       "      <td>sedan</td>\n",
       "    </tr>\n",
       "    <tr>\n",
       "      <th>156</th>\n",
       "      <td>petrol</td>\n",
       "      <td>manual</td>\n",
       "      <td>wagon</td>\n",
       "    </tr>\n",
       "    <tr>\n",
       "      <th>159</th>\n",
       "      <td>gasoline</td>\n",
       "      <td>manual</td>\n",
       "      <td>sedan</td>\n",
       "    </tr>\n",
       "    <tr>\n",
       "      <th>...</th>\n",
       "      <td>...</td>\n",
       "      <td>...</td>\n",
       "      <td>...</td>\n",
       "    </tr>\n",
       "    <tr>\n",
       "      <th>yaris</th>\n",
       "      <td>petrol</td>\n",
       "      <td>manual</td>\n",
       "      <td>small</td>\n",
       "    </tr>\n",
       "    <tr>\n",
       "      <th>yeti</th>\n",
       "      <td>petrol</td>\n",
       "      <td>manual</td>\n",
       "      <td>suv</td>\n",
       "    </tr>\n",
       "    <tr>\n",
       "      <th>ypsilon</th>\n",
       "      <td>petrol</td>\n",
       "      <td>manual</td>\n",
       "      <td>small</td>\n",
       "    </tr>\n",
       "    <tr>\n",
       "      <th>z_reihe</th>\n",
       "      <td>petrol</td>\n",
       "      <td>manual</td>\n",
       "      <td>convertible</td>\n",
       "    </tr>\n",
       "    <tr>\n",
       "      <th>zafira</th>\n",
       "      <td>gasoline</td>\n",
       "      <td>manual</td>\n",
       "      <td>bus</td>\n",
       "    </tr>\n",
       "  </tbody>\n",
       "</table>\n",
       "<p>250 rows × 3 columns</p>\n",
       "</div>"
      ],
      "text/plain": [
       "         FuelType Gearbox  VehicleType\n",
       "Model                                 \n",
       "100        petrol  manual        wagon\n",
       "145        petrol  manual        small\n",
       "147      gasoline  manual        sedan\n",
       "156        petrol  manual        wagon\n",
       "159      gasoline  manual        sedan\n",
       "...           ...     ...          ...\n",
       "yaris      petrol  manual        small\n",
       "yeti       petrol  manual          suv\n",
       "ypsilon    petrol  manual        small\n",
       "z_reihe    petrol  manual  convertible\n",
       "zafira   gasoline  manual          bus\n",
       "\n",
       "[250 rows x 3 columns]"
      ]
     },
     "execution_count": 7,
     "metadata": {},
     "output_type": "execute_result"
    }
   ],
   "source": [
    "model_char = df.pivot_table(index='Model', values=['VehicleType', 'Gearbox', 'FuelType'], aggfunc='first')\n",
    "model_char"
   ]
  },
  {
   "cell_type": "markdown",
   "id": "55825275",
   "metadata": {},
   "source": [
    "Let's create the *repair* function to garter the missing values from the *model_char* pivot table, fill in the remaining missing values with the \"unknown\" value"
   ]
  },
  {
   "cell_type": "code",
   "execution_count": 8,
   "id": "6bd88bdf",
   "metadata": {},
   "outputs": [],
   "source": [
    "def repair(row):\n",
    "    for col in model_char.columns:\n",
    "        if type(row[col]) != str:\n",
    "            for index in range(model_char.shape[0]):\n",
    "                if row['Model'] == model_char.index[index]:\n",
    "                    row[col] = model_char.iloc[index][col]\n",
    "                    return row\n",
    "    return row  "
   ]
  },
  {
   "cell_type": "code",
   "execution_count": 9,
   "id": "a34c8d94",
   "metadata": {},
   "outputs": [],
   "source": [
    "df = df.apply(repair, axis=1)\n",
    "\n",
    "df = df.fillna('unknown')"
   ]
  },
  {
   "cell_type": "code",
   "execution_count": 10,
   "id": "231098d5",
   "metadata": {},
   "outputs": [
    {
     "data": {
      "text/html": [
       "<style  type=\"text/css\" >\n",
       "#T_b0036_row0_col0,#T_b0036_row1_col0,#T_b0036_row2_col0,#T_b0036_row3_col0,#T_b0036_row4_col0,#T_b0036_row5_col0,#T_b0036_row6_col0,#T_b0036_row7_col0,#T_b0036_row8_col0,#T_b0036_row9_col0,#T_b0036_row10_col0,#T_b0036_row11_col0{\n",
       "            background-color:  #3b4cc0;\n",
       "            color:  #f1f1f1;\n",
       "        }</style><table id=\"T_b0036_\" ><thead>    <tr>        <th class=\"blank level0\" ></th>        <th class=\"col_heading level0 col0\" >0</th>    </tr></thead><tbody>\n",
       "                <tr>\n",
       "                        <th id=\"T_b0036_level0_row0\" class=\"row_heading level0 row0\" >Price</th>\n",
       "                        <td id=\"T_b0036_row0_col0\" class=\"data row0 col0\" >0.000000</td>\n",
       "            </tr>\n",
       "            <tr>\n",
       "                        <th id=\"T_b0036_level0_row1\" class=\"row_heading level0 row1\" >VehicleType</th>\n",
       "                        <td id=\"T_b0036_row1_col0\" class=\"data row1 col0\" >0.000000</td>\n",
       "            </tr>\n",
       "            <tr>\n",
       "                        <th id=\"T_b0036_level0_row2\" class=\"row_heading level0 row2\" >RegistrationYear</th>\n",
       "                        <td id=\"T_b0036_row2_col0\" class=\"data row2 col0\" >0.000000</td>\n",
       "            </tr>\n",
       "            <tr>\n",
       "                        <th id=\"T_b0036_level0_row3\" class=\"row_heading level0 row3\" >Gearbox</th>\n",
       "                        <td id=\"T_b0036_row3_col0\" class=\"data row3 col0\" >0.000000</td>\n",
       "            </tr>\n",
       "            <tr>\n",
       "                        <th id=\"T_b0036_level0_row4\" class=\"row_heading level0 row4\" >Power</th>\n",
       "                        <td id=\"T_b0036_row4_col0\" class=\"data row4 col0\" >0.000000</td>\n",
       "            </tr>\n",
       "            <tr>\n",
       "                        <th id=\"T_b0036_level0_row5\" class=\"row_heading level0 row5\" >Model</th>\n",
       "                        <td id=\"T_b0036_row5_col0\" class=\"data row5 col0\" >0.000000</td>\n",
       "            </tr>\n",
       "            <tr>\n",
       "                        <th id=\"T_b0036_level0_row6\" class=\"row_heading level0 row6\" >Kilometer</th>\n",
       "                        <td id=\"T_b0036_row6_col0\" class=\"data row6 col0\" >0.000000</td>\n",
       "            </tr>\n",
       "            <tr>\n",
       "                        <th id=\"T_b0036_level0_row7\" class=\"row_heading level0 row7\" >RegistrationMonth</th>\n",
       "                        <td id=\"T_b0036_row7_col0\" class=\"data row7 col0\" >0.000000</td>\n",
       "            </tr>\n",
       "            <tr>\n",
       "                        <th id=\"T_b0036_level0_row8\" class=\"row_heading level0 row8\" >FuelType</th>\n",
       "                        <td id=\"T_b0036_row8_col0\" class=\"data row8 col0\" >0.000000</td>\n",
       "            </tr>\n",
       "            <tr>\n",
       "                        <th id=\"T_b0036_level0_row9\" class=\"row_heading level0 row9\" >Brand</th>\n",
       "                        <td id=\"T_b0036_row9_col0\" class=\"data row9 col0\" >0.000000</td>\n",
       "            </tr>\n",
       "            <tr>\n",
       "                        <th id=\"T_b0036_level0_row10\" class=\"row_heading level0 row10\" >Repaired</th>\n",
       "                        <td id=\"T_b0036_row10_col0\" class=\"data row10 col0\" >0.000000</td>\n",
       "            </tr>\n",
       "            <tr>\n",
       "                        <th id=\"T_b0036_level0_row11\" class=\"row_heading level0 row11\" >PostalCode</th>\n",
       "                        <td id=\"T_b0036_row11_col0\" class=\"data row11 col0\" >0.000000</td>\n",
       "            </tr>\n",
       "    </tbody></table>"
      ],
      "text/plain": [
       "<pandas.io.formats.style.Styler at 0x7f4d142d69a0>"
      ]
     },
     "execution_count": 10,
     "metadata": {},
     "output_type": "execute_result"
    }
   ],
   "source": [
    "pd.DataFrame(round(df.isna().mean() * 100)).style.background_gradient('coolwarm')"
   ]
  },
  {
   "cell_type": "markdown",
   "id": "2625134b",
   "metadata": {},
   "source": [
    "Let's get rid of outliers in the data"
   ]
  },
  {
   "cell_type": "code",
   "execution_count": 11,
   "id": "43ab31f7",
   "metadata": {},
   "outputs": [
    {
     "data": {
      "image/png": "[encoded data removed]",
      "text/plain": [
       "<Figure size 432x288 with 1 Axes>"
      ]
     },
     "metadata": {
      "needs_background": "light"
     },
     "output_type": "display_data"
    },
    {
     "data": {
      "image/png": "[encoded data removed]",
      "text/plain": [
       "<Figure size 432x288 with 1 Axes>"
      ]
     },
     "metadata": {
      "needs_background": "light"
     },
     "output_type": "display_data"
    },
    {
     "data": {
      "image/png": "[encoded data removed]",
      "text/plain": [
       "<Figure size 432x288 with 1 Axes>"
      ]
     },
     "metadata": {
      "needs_background": "light"
     },
     "output_type": "display_data"
    },
    {
     "data": {
      "image/png": "[encoded data removed]",
      "text/plain": [
       "<Figure size 432x288 with 1 Axes>"
      ]
     },
     "metadata": {
      "needs_background": "light"
     },
     "output_type": "display_data"
    },
    {
     "data": {
      "image/png": "[encoded data removed]",
      "text/plain": [
       "<Figure size 432x288 with 1 Axes>"
      ]
     },
     "metadata": {
      "needs_background": "light"
     },
     "output_type": "display_data"
    },
    {
     "data": {
      "image/png": "[encoded data removed]",
      "text/plain": [
       "<Figure size 432x288 with 1 Axes>"
      ]
     },
     "metadata": {
      "needs_background": "light"
     },
     "output_type": "display_data"
    }
   ],
   "source": [
    "for i in df.columns:\n",
    "    if type(df[i][0]) != str:\n",
    "        df.boxplot(column=i)\n",
    "        plt.show()"
   ]
  },
  {
   "cell_type": "code",
   "execution_count": 12,
   "id": "d7b2b635",
   "metadata": {},
   "outputs": [],
   "source": [
    "df = df.query('Price < =15000 & 1980 <= RegistrationYear <= 2022 & Power <= 300')"
   ]
  },
  {
   "cell_type": "code",
   "execution_count": 13,
   "id": "7022c537",
   "metadata": {},
   "outputs": [
    {
     "data": {
      "image/png": "[encoded data removed]",
      "text/plain": [
       "<Figure size 432x288 with 1 Axes>"
      ]
     },
     "metadata": {
      "needs_background": "light"
     },
     "output_type": "display_data"
    },
    {
     "data": {
      "image/png": "[encoded data removed]",
      "text/plain": [
       "<Figure size 432x288 with 1 Axes>"
      ]
     },
     "metadata": {
      "needs_background": "light"
     },
     "output_type": "display_data"
    },
    {
     "data": {
      "image/png": "[encoded data removed]",
      "text/plain": [
       "<Figure size 432x288 with 1 Axes>"
      ]
     },
     "metadata": {
      "needs_background": "light"
     },
     "output_type": "display_data"
    },
    {
     "data": {
      "image/png": "[encoded data removed]",
      "text/plain": [
       "<Figure size 432x288 with 1 Axes>"
      ]
     },
     "metadata": {
      "needs_background": "light"
     },
     "output_type": "display_data"
    },
    {
     "data": {
      "image/png": "[encoded data removed]",
      "text/plain": [
       "<Figure size 432x288 with 1 Axes>"
      ]
     },
     "metadata": {
      "needs_background": "light"
     },
     "output_type": "display_data"
    },
    {
     "data": {
      "image/png": "[encoded data removed]",
      "text/plain": [
       "<Figure size 432x288 with 1 Axes>"
      ]
     },
     "metadata": {
      "needs_background": "light"
     },
     "output_type": "display_data"
    }
   ],
   "source": [
    "for i in df.columns:\n",
    "    if type(df[i][0]) != str:\n",
    "        df.boxplot(column=i)\n",
    "        plt.show()"
   ]
  },
  {
   "cell_type": "markdown",
   "id": "847a6549",
   "metadata": {},
   "source": [
    "Having got rid of omissions and outliers in the data, we will start training models"
   ]
  },
  {
   "cell_type": "markdown",
   "id": "d2422de6",
   "metadata": {},
   "source": [
    "## Model training"
   ]
  },
  {
   "cell_type": "markdown",
   "id": "0333101a",
   "metadata": {},
   "source": [
    "Подготовим и разобьем признаки на обучающую, валидационную и тестовую выборки"
   ]
  },
  {
   "cell_type": "code",
   "execution_count": 14,
   "id": "57bda0df",
   "metadata": {},
   "outputs": [],
   "source": [
    "cat_features = ['VehicleType', 'Gearbox', 'Model', 'FuelType', 'Brand', 'Repaired']"
   ]
  },
  {
   "cell_type": "code",
   "execution_count": 15,
   "id": "6e0b08cc",
   "metadata": {},
   "outputs": [],
   "source": [
    "X = df.drop(['Price'], axis=1)\n",
    "y = df['Price']"
   ]
  },
  {
   "cell_type": "code",
   "execution_count": 16,
   "id": "f3effd10",
   "metadata": {},
   "outputs": [
    {
     "name": "stdout",
     "output_type": "stream",
     "text": [
      "(213602, 11)\n",
      "(66751, 11)\n",
      "(53401, 11)\n",
      "(213602,)\n",
      "(66751,)\n",
      "(53401,)\n"
     ]
    }
   ],
   "source": [
    "X_train, X_valid, y_train, y_valid = train_test_split(X, y, test_size=.2, random_state=12345)\n",
    "\n",
    "X_train, X_test, y_train, y_test = train_test_split(X_train, y_train, test_size=.2,  random_state=12345)\n",
    "\n",
    "print(X_train.shape)\n",
    "print(X_valid.shape)\n",
    "print(X_test.shape)\n",
    "print(y_train.shape)\n",
    "print(y_valid.shape)\n",
    "print(y_test.shape)"
   ]
  },
  {
   "cell_type": "markdown",
   "id": "54ba21cf",
   "metadata": {},
   "source": [
    "Using *Label Encoder* we encode categorical features"
   ]
  },
  {
   "cell_type": "code",
   "execution_count": 17,
   "id": "1b9083da",
   "metadata": {},
   "outputs": [
    {
     "name": "stderr",
     "output_type": "stream",
     "text": [
      "/tmp/ipykernel_48/1374394246.py:5: SettingWithCopyWarning: \n",
      "A value is trying to be set on a copy of a slice from a DataFrame.\n",
      "Try using .loc[row_indexer,col_indexer] = value instead\n",
      "\n",
      "See the caveats in the documentation: https://pandas.pydata.org/pandas-docs/stable/user_guide/indexing.html#returning-a-view-versus-a-copy\n",
      "  X_valid[cat_features[i]] = le.fit_transform(X_valid[cat_features[i]])\n"
     ]
    }
   ],
   "source": [
    "le = LabelEncoder()\n",
    "\n",
    "for i in range(len(cat_features)):\n",
    "    X_train[cat_features[i]] = le.fit_transform(X_train[cat_features[i]])\n",
    "    X_valid[cat_features[i]] = le.fit_transform(X_valid[cat_features[i]])\n",
    "    X_test[cat_features[i]] = le.fit_transform(X_test[cat_features[i]])"
   ]
  },
  {
   "cell_type": "markdown",
   "id": "c3131cc9",
   "metadata": {},
   "source": [
    "### LGBMRegressor"
   ]
  },
  {
   "cell_type": "code",
   "execution_count": 18,
   "id": "15f3d0fd",
   "metadata": {},
   "outputs": [
    {
     "name": "stdout",
     "output_type": "stream",
     "text": [
      "RMSE модели LGBMRegressor = 1612.8447004336824, n_estimatores = 100, max_depth = 10\n",
      "CPU times: user 3min 24s, sys: 805 ms, total: 3min 25s\n",
      "Wall time: 3min 28s\n"
     ]
    }
   ],
   "source": [
    "%%time\n",
    "best_model_LGBM = None\n",
    "n_est = None\n",
    "depth = None\n",
    "score = 2500\n",
    "\n",
    "for n_est in range(20, 101, 10):\n",
    "    for dep in range(0, 51, 10):\n",
    "        model_LGBM = LGBMRegressor(learning_rate=.1, n_estimators=n_est, max_depth=dep)\n",
    "        model_LGBM.fit(X_train, y_train)\n",
    "        predictions = model_LGBM.predict(X_valid)\n",
    "        rmse = mean_squared_error(y_valid, predictions) ** .5\n",
    "        if rmse < score:\n",
    "            best_model_LGBM = model_LGBM\n",
    "            n_est = n_est\n",
    "            depth = dep\n",
    "            score = rmse\n",
    "print(f'RMSE модели LGBMRegressor = {score}, n_estimatores = {n_est}, max_depth = {depth}')"
   ]
  },
  {
   "cell_type": "markdown",
   "id": "46625e1a",
   "metadata": {},
   "source": [
    "### CatBoostRegressor"
   ]
  },
  {
   "cell_type": "code",
   "execution_count": 19,
   "id": "99221942",
   "metadata": {},
   "outputs": [
    {
     "name": "stdout",
     "output_type": "stream",
     "text": [
      "0:\tlearn: 3385.3918020\ttotal: 333ms\tremaining: 33s\n",
      "20:\tlearn: 1720.2255019\ttotal: 5.32s\tremaining: 20s\n",
      "40:\tlearn: 1534.4169037\ttotal: 10.2s\tremaining: 14.7s\n",
      "60:\tlearn: 1469.4434037\ttotal: 15.4s\tremaining: 9.81s\n",
      "80:\tlearn: 1426.0089895\ttotal: 20.4s\tremaining: 4.8s\n",
      "99:\tlearn: 1391.7483963\ttotal: 25.4s\tremaining: 0us\n",
      "RMSE модели CatBoostRegressor = 1569.8220437175871\n",
      "CPU times: user 25.7 s, sys: 224 ms, total: 26 s\n",
      "Wall time: 26.9 s\n"
     ]
    }
   ],
   "source": [
    "%%time\n",
    "model_CatBoost = CatBoostRegressor(iterations=100, learning_rate=.1, depth=13, random_state=12345)\n",
    "model_CatBoost.fit(X_train, y_train, cat_features=cat_features, verbose=20)\n",
    "predictions = model_CatBoost.predict(X_valid)\n",
    "rmse = mean_squared_error(y_valid, predictions) ** .5\n",
    "print(f'RMSE модели CatBoostRegressor = {rmse}')"
   ]
  },
  {
   "cell_type": "markdown",
   "id": "fd02109a",
   "metadata": {},
   "source": [
    "### RandomForestRegressor"
   ]
  },
  {
   "cell_type": "code",
   "execution_count": 20,
   "id": "1c4dbb6f",
   "metadata": {},
   "outputs": [
    {
     "name": "stdout",
     "output_type": "stream",
     "text": [
      "RMSE модели RandomForestRegressor = 1639.37137220159\n",
      "CPU times: user 49.4 s, sys: 54 ms, total: 49.5 s\n",
      "Wall time: 49.5 s\n"
     ]
    }
   ],
   "source": [
    "%%time\n",
    "model_RF = RandomForestRegressor(n_estimators=100, max_depth=12, random_state=12345)\n",
    "model_RF.fit(X_train, y_train)\n",
    "predictions = model_RF.predict(X_valid)\n",
    "rmse = mean_squared_error(y_valid, predictions) **.5\n",
    "print(f'RMSE модели RandomForestRegressor = {rmse}')"
   ]
  },
  {
   "cell_type": "markdown",
   "id": "16c374bf",
   "metadata": {},
   "source": [
    "As can be seen from the results above, the best result for the *RMSE* metric was obtained by the *CatBoostRegressor* model, the fastest (excluding the optimization process) was *LGBMRegressor*, the worst result of the metric was shown by *RandomForestRegressor*, followed by the worst indicator of execution speed"
   ]
  },
  {
   "cell_type": "markdown",
   "id": "44871dd4",
   "metadata": {},
   "source": [
    "## Model analysis"
   ]
  },
  {
   "cell_type": "markdown",
   "id": "814beeee",
   "metadata": {},
   "source": [
    "### LGBMRegressor"
   ]
  },
  {
   "cell_type": "code",
   "execution_count": 21,
   "id": "e5c3781e",
   "metadata": {},
   "outputs": [
    {
     "name": "stdout",
     "output_type": "stream",
     "text": [
      "CPU times: user 4.43 s, sys: 32.4 ms, total: 4.47 s\n",
      "Wall time: 4.52 s\n"
     ]
    },
    {
     "data": {
      "text/plain": [
       "LGBMRegressor(max_depth=10)"
      ]
     },
     "execution_count": 21,
     "metadata": {},
     "output_type": "execute_result"
    }
   ],
   "source": [
    "%%time\n",
    "best_model_LGBM.fit(X_train, y_train)"
   ]
  },
  {
   "cell_type": "code",
   "execution_count": 22,
   "id": "2a320da6",
   "metadata": {},
   "outputs": [
    {
     "name": "stdout",
     "output_type": "stream",
     "text": [
      "CPU times: user 511 ms, sys: 0 ns, total: 511 ms\n",
      "Wall time: 502 ms\n"
     ]
    }
   ],
   "source": [
    "%%time\n",
    "predictions = best_model_LGBM.predict(X_valid)"
   ]
  },
  {
   "cell_type": "code",
   "execution_count": 23,
   "id": "23466939",
   "metadata": {},
   "outputs": [],
   "source": [
    "score_LGBM = mean_squared_error(y_valid, predictions) **.5"
   ]
  },
  {
   "cell_type": "markdown",
   "id": "09b44532",
   "metadata": {},
   "source": [
    "### CatBoostRegressor"
   ]
  },
  {
   "cell_type": "code",
   "execution_count": 24,
   "id": "d63b2410",
   "metadata": {},
   "outputs": [
    {
     "name": "stdout",
     "output_type": "stream",
     "text": [
      "0:\tlearn: 3385.3918020\ttotal: 281ms\tremaining: 27.8s\n",
      "20:\tlearn: 1720.2255019\ttotal: 5.2s\tremaining: 19.6s\n",
      "40:\tlearn: 1534.4169037\ttotal: 10.2s\tremaining: 14.7s\n",
      "60:\tlearn: 1469.4434037\ttotal: 15.3s\tremaining: 9.76s\n",
      "80:\tlearn: 1426.0089895\ttotal: 20.4s\tremaining: 4.78s\n",
      "99:\tlearn: 1391.7483963\ttotal: 25.3s\tremaining: 0us\n",
      "CPU times: user 25.5 s, sys: 220 ms, total: 25.7 s\n",
      "Wall time: 26.3 s\n"
     ]
    },
    {
     "data": {
      "text/plain": [
       "<catboost.core.CatBoostRegressor at 0x7f4c83ff1ca0>"
      ]
     },
     "execution_count": 24,
     "metadata": {},
     "output_type": "execute_result"
    }
   ],
   "source": [
    "%%time\n",
    "model_CatBoost.fit(X_train, y_train, cat_features=cat_features, verbose=20)"
   ]
  },
  {
   "cell_type": "code",
   "execution_count": 25,
   "id": "da8fe345",
   "metadata": {},
   "outputs": [
    {
     "name": "stdout",
     "output_type": "stream",
     "text": [
      "CPU times: user 110 ms, sys: 4.03 ms, total: 114 ms\n",
      "Wall time: 116 ms\n"
     ]
    }
   ],
   "source": [
    "%%time\n",
    "predictions = model_CatBoost.predict(X_valid)"
   ]
  },
  {
   "cell_type": "code",
   "execution_count": 26,
   "id": "573b37bd",
   "metadata": {},
   "outputs": [],
   "source": [
    "score_CatBoost = mean_squared_error(y_valid, predictions) **.5"
   ]
  },
  {
   "cell_type": "markdown",
   "id": "9f1e9186",
   "metadata": {},
   "source": [
    "### RandomForestRegressor"
   ]
  },
  {
   "cell_type": "code",
   "execution_count": 27,
   "id": "4ce9f477",
   "metadata": {},
   "outputs": [
    {
     "name": "stdout",
     "output_type": "stream",
     "text": [
      "CPU times: user 49.1 s, sys: 18.4 ms, total: 49.1 s\n",
      "Wall time: 49.2 s\n"
     ]
    },
    {
     "data": {
      "text/plain": [
       "RandomForestRegressor(max_depth=12, random_state=12345)"
      ]
     },
     "execution_count": 27,
     "metadata": {},
     "output_type": "execute_result"
    }
   ],
   "source": [
    "%%time\n",
    "model_RF.fit(X_train, y_train)"
   ]
  },
  {
   "cell_type": "code",
   "execution_count": 28,
   "id": "512eddd7",
   "metadata": {},
   "outputs": [
    {
     "name": "stdout",
     "output_type": "stream",
     "text": [
      "CPU times: user 736 ms, sys: 0 ns, total: 736 ms\n",
      "Wall time: 743 ms\n"
     ]
    }
   ],
   "source": [
    "%%time\n",
    "predictions = model_RF.predict(X_valid)"
   ]
  },
  {
   "cell_type": "code",
   "execution_count": 29,
   "id": "194365e2",
   "metadata": {},
   "outputs": [],
   "source": [
    "score_RF = mean_squared_error(y_valid, predictions) **.5"
   ]
  },
  {
   "cell_type": "code",
   "execution_count": 30,
   "id": "42b110ba",
   "metadata": {},
   "outputs": [
    {
     "data": {
      "text/html": [
       "<div>\n",
       "<style scoped>\n",
       "    .dataframe tbody tr th:only-of-type {\n",
       "        vertical-align: middle;\n",
       "    }\n",
       "\n",
       "    .dataframe tbody tr th {\n",
       "        vertical-align: top;\n",
       "    }\n",
       "\n",
       "    .dataframe thead th {\n",
       "        text-align: right;\n",
       "    }\n",
       "</style>\n",
       "<table border=\"1\" class=\"dataframe\">\n",
       "  <thead>\n",
       "    <tr style=\"text-align: right;\">\n",
       "      <th></th>\n",
       "      <th>Fit time</th>\n",
       "      <th>Predict time</th>\n",
       "      <th>Score</th>\n",
       "    </tr>\n",
       "  </thead>\n",
       "  <tbody>\n",
       "    <tr>\n",
       "      <th>LGBMRegressor</th>\n",
       "      <td>0.662</td>\n",
       "      <td>0.097</td>\n",
       "      <td>1612.844700</td>\n",
       "    </tr>\n",
       "    <tr>\n",
       "      <th>CatBoostRegressor</th>\n",
       "      <td>7.030</td>\n",
       "      <td>0.058</td>\n",
       "      <td>1569.822044</td>\n",
       "    </tr>\n",
       "    <tr>\n",
       "      <th>RandomForestRegressor</th>\n",
       "      <td>34.500</td>\n",
       "      <td>0.583</td>\n",
       "      <td>1639.371372</td>\n",
       "    </tr>\n",
       "  </tbody>\n",
       "</table>\n",
       "</div>"
      ],
      "text/plain": [
       "                       Fit time  Predict time        Score\n",
       "LGBMRegressor             0.662         0.097  1612.844700\n",
       "CatBoostRegressor         7.030         0.058  1569.822044\n",
       "RandomForestRegressor    34.500         0.583  1639.371372"
      ]
     },
     "execution_count": 30,
     "metadata": {},
     "output_type": "execute_result"
    }
   ],
   "source": [
    "LGBM = [0.662, 0.097, score_LGBM]\n",
    "CB = [7.03, 0.058, score_CatBoost]\n",
    "RF = [34.5, 0.583, score_RF]\n",
    "\n",
    "report_RFR = pd.DataFrame([LGBM, CB, RF],\n",
    "                          columns=['Fit time', 'Predict time', 'Score'],\n",
    "                          index=['LGBMRegressor', 'CatBoostRegressor', 'RandomForestRegressor'])\n",
    "report_RFR"
   ]
  },
  {
   "cell_type": "markdown",
   "id": "73be9aa3",
   "metadata": {},
   "source": [
    "After analyzing the models, we can note the following:\n",
    "- The fastest learning model is GBM (~629 ms)\n",
    "- The fastest model in terms of prediction output speed - CatBoost (~12 ms)\n",
    "- The most accurate model according to the RMSE metric is CatBoost (~1570)"
   ]
  },
  {
   "cell_type": "markdown",
   "id": "ec8f3e21",
   "metadata": {},
   "source": [
    "## Testing the CatBoostRegressor model"
   ]
  },
  {
   "cell_type": "code",
   "execution_count": 31,
   "id": "c3c5ae16",
   "metadata": {},
   "outputs": [
    {
     "name": "stdout",
     "output_type": "stream",
     "text": [
      "Итоговый показатель RMSE модели CatBoost = 1611.1842657100492\n",
      "CPU times: user 88.6 ms, sys: 4.02 ms, total: 92.6 ms\n",
      "Wall time: 91.6 ms\n"
     ]
    }
   ],
   "source": [
    "%%time\n",
    "predictions = model_CatBoost.predict(X_test)\n",
    "rmse = mean_squared_error(y_test, predictions) **.5\n",
    "print(f'Итоговый показатель RMSE модели CatBoost = {rmse}')"
   ]
  },
  {
   "cell_type": "markdown",
   "id": "af217a92",
   "metadata": {},
   "source": [
    "Based on the results of testing on a test sample, the *CatBoostRegressor* model fits the customer's criteria both in terms of the value of the *RMSE* metric and in terms of speed, on the test sample the *RMSE* metric indicator is ~1611 and the block execution time is 96.6 ms."
   ]
  },
  {
   "cell_type": "markdown",
   "id": "371af770",
   "metadata": {},
   "source": [
    "## Conclusion"
   ]
  },
  {
   "cell_type": "markdown",
   "id": "441d1bdf",
   "metadata": {},
   "source": [
    "During the study, three machine learning models were trained, namely LGBMRegressor, CatBoostRegressor and RandomForestRegressor, and based on the customer's criteria, the CatBoostRegressor model was selected, with indicators on the RMSE validation sample of ~1570 (vs. 1613 for LGBMRegressor and 1639 for RandomForestRegressor), block execution time of 901 ms (vs. 901 ms for LGBMRegressor and 40.1 with RandomForestRegressor). The final indicators of the CatBoostRegressor model on the test sample were ~1611 according to the RMSE quality metric, and the block execution time was 96.6 ms.\n",
    "\n",
    "\n",
    "The following steps were taken:\n",
    "- The dataset has been studied.\n",
    "- Preprocessed and pre-filled signs.\n",
    "- 3 machine learning models have been trained and analyzed.\n",
    "- The best model suitable for the customer's requirements has been selected and tested."
   ]
  }
 ],
 "metadata": {
  "ExecuteTimeLog": [
   {
    "duration": 92,
    "start_time": "2023-03-20T15:38:42.454Z"
   },
   {
    "duration": 1678,
    "start_time": "2023-03-20T15:38:47.402Z"
   },
   {
    "duration": 1739,
    "start_time": "2023-03-20T15:38:49.086Z"
   },
   {
    "duration": 31,
    "start_time": "2023-03-20T15:38:50.827Z"
   },
   {
    "duration": 13,
    "start_time": "2023-03-20T15:38:50.860Z"
   },
   {
    "duration": 724,
    "start_time": "2023-03-20T15:38:50.875Z"
   },
   {
    "duration": 41,
    "start_time": "2023-03-20T15:38:51.601Z"
   },
   {
    "duration": 161,
    "start_time": "2023-03-20T15:38:51.644Z"
   },
   {
    "duration": 5,
    "start_time": "2023-03-20T15:38:51.808Z"
   },
   {
    "duration": 88100,
    "start_time": "2023-03-20T15:38:51.815Z"
   },
   {
    "duration": 155,
    "start_time": "2023-03-20T15:40:19.918Z"
   },
   {
    "duration": 196,
    "start_time": "2023-03-20T15:40:20.083Z"
   },
   {
    "duration": 0,
    "start_time": "2023-03-20T15:40:20.281Z"
   },
   {
    "duration": 0,
    "start_time": "2023-03-20T15:40:20.282Z"
   },
   {
    "duration": 0,
    "start_time": "2023-03-20T15:40:20.288Z"
   },
   {
    "duration": 0,
    "start_time": "2023-03-20T15:40:20.289Z"
   },
   {
    "duration": 0,
    "start_time": "2023-03-20T15:40:20.290Z"
   },
   {
    "duration": 0,
    "start_time": "2023-03-20T15:40:20.296Z"
   },
   {
    "duration": 0,
    "start_time": "2023-03-20T15:40:20.297Z"
   },
   {
    "duration": 0,
    "start_time": "2023-03-20T15:40:20.299Z"
   },
   {
    "duration": 16,
    "start_time": "2023-03-20T15:43:11.001Z"
   },
   {
    "duration": 10,
    "start_time": "2023-03-20T15:43:20.305Z"
   },
   {
    "duration": 12,
    "start_time": "2023-03-20T15:43:35.797Z"
   },
   {
    "duration": 15331,
    "start_time": "2023-03-20T15:43:56.171Z"
   },
   {
    "duration": 3512,
    "start_time": "2023-03-20T15:44:28.839Z"
   },
   {
    "duration": 2499,
    "start_time": "2023-03-20T15:44:37.372Z"
   },
   {
    "duration": 16,
    "start_time": "2023-03-20T15:44:56.931Z"
   },
   {
    "duration": 8,
    "start_time": "2023-03-20T15:45:15.102Z"
   },
   {
    "duration": 2466,
    "start_time": "2023-03-20T15:45:20.305Z"
   },
   {
    "duration": 30,
    "start_time": "2023-03-20T15:45:34.473Z"
   },
   {
    "duration": 5,
    "start_time": "2023-03-20T15:46:48.626Z"
   },
   {
    "duration": 2332,
    "start_time": "2023-03-20T15:47:05.523Z"
   },
   {
    "duration": 2007,
    "start_time": "2023-03-20T15:47:12.303Z"
   },
   {
    "duration": 3003,
    "start_time": "2023-03-20T15:47:20.668Z"
   },
   {
    "duration": 18,
    "start_time": "2023-03-20T15:49:30.885Z"
   },
   {
    "duration": 2697,
    "start_time": "2023-03-20T15:49:43.689Z"
   },
   {
    "duration": 711,
    "start_time": "2023-03-20T15:50:16.507Z"
   },
   {
    "duration": 2731,
    "start_time": "2023-03-20T15:51:50.438Z"
   },
   {
    "duration": 3131,
    "start_time": "2023-03-20T15:52:04.280Z"
   },
   {
    "duration": 3339,
    "start_time": "2023-03-20T15:52:08.591Z"
   },
   {
    "duration": 18,
    "start_time": "2023-03-20T15:56:25.711Z"
   },
   {
    "duration": 176,
    "start_time": "2023-03-20T15:56:31.205Z"
   },
   {
    "duration": 48,
    "start_time": "2023-03-20T15:56:36.363Z"
   },
   {
    "duration": 27,
    "start_time": "2023-03-20T15:57:15.524Z"
   },
   {
    "duration": 17,
    "start_time": "2023-03-20T15:57:23.212Z"
   },
   {
    "duration": 10,
    "start_time": "2023-03-20T15:57:26.064Z"
   },
   {
    "duration": 42,
    "start_time": "2023-03-20T15:59:12.768Z"
   },
   {
    "duration": 105,
    "start_time": "2023-03-20T15:59:17.695Z"
   },
   {
    "duration": 472,
    "start_time": "2023-03-20T15:59:38.609Z"
   },
   {
    "duration": 12,
    "start_time": "2023-03-20T15:59:57.359Z"
   },
   {
    "duration": 26,
    "start_time": "2023-03-20T16:01:00.311Z"
   },
   {
    "duration": 586,
    "start_time": "2023-03-20T16:06:01.995Z"
   },
   {
    "duration": 29,
    "start_time": "2023-03-20T16:06:32.706Z"
   },
   {
    "duration": 13,
    "start_time": "2023-03-20T16:06:40.818Z"
   },
   {
    "duration": 206,
    "start_time": "2023-03-20T16:09:12.673Z"
   },
   {
    "duration": 133,
    "start_time": "2023-03-20T16:09:40.764Z"
   },
   {
    "duration": 146,
    "start_time": "2023-03-20T16:09:57.464Z"
   },
   {
    "duration": 559,
    "start_time": "2023-03-20T16:11:04.328Z"
   },
   {
    "duration": 513,
    "start_time": "2023-03-20T16:11:16.358Z"
   },
   {
    "duration": 362,
    "start_time": "2023-03-20T16:11:32.496Z"
   },
   {
    "duration": 537,
    "start_time": "2023-03-20T16:11:37.397Z"
   },
   {
    "duration": 12,
    "start_time": "2023-03-20T16:12:02.559Z"
   },
   {
    "duration": 16,
    "start_time": "2023-03-20T16:12:13.362Z"
   },
   {
    "duration": 582,
    "start_time": "2023-03-20T16:16:03.864Z"
   },
   {
    "duration": 631,
    "start_time": "2023-03-20T16:16:07.364Z"
   },
   {
    "duration": 123,
    "start_time": "2023-03-20T16:17:07.333Z"
   },
   {
    "duration": 27,
    "start_time": "2023-03-20T16:17:10.719Z"
   },
   {
    "duration": 96,
    "start_time": "2023-03-20T16:17:27.767Z"
   },
   {
    "duration": 92,
    "start_time": "2023-03-20T16:17:35.267Z"
   },
   {
    "duration": 11,
    "start_time": "2023-03-20T16:17:38.816Z"
   },
   {
    "duration": 65,
    "start_time": "2023-03-20T16:17:52.121Z"
   },
   {
    "duration": 623,
    "start_time": "2023-03-20T16:17:54.198Z"
   },
   {
    "duration": 494,
    "start_time": "2023-03-20T16:18:06.967Z"
   },
   {
    "duration": 40,
    "start_time": "2023-03-20T16:18:14.474Z"
   },
   {
    "duration": 24,
    "start_time": "2023-03-20T16:20:09.017Z"
   },
   {
    "duration": 145,
    "start_time": "2023-03-20T16:20:21.540Z"
   },
   {
    "duration": 27,
    "start_time": "2023-03-20T16:20:43.476Z"
   },
   {
    "duration": 2719,
    "start_time": "2023-03-20T16:20:47.889Z"
   },
   {
    "duration": 55,
    "start_time": "2023-03-20T16:26:01.515Z"
   },
   {
    "duration": 2775,
    "start_time": "2023-03-20T16:26:13.141Z"
   },
   {
    "duration": 149,
    "start_time": "2023-03-20T16:26:24.270Z"
   },
   {
    "duration": 3088,
    "start_time": "2023-03-20T16:26:39.175Z"
   },
   {
    "duration": 7,
    "start_time": "2023-03-20T16:27:04.516Z"
   },
   {
    "duration": 14,
    "start_time": "2023-03-20T16:28:36.012Z"
   },
   {
    "duration": 1545,
    "start_time": "2023-03-20T16:28:40.264Z"
   },
   {
    "duration": 899,
    "start_time": "2023-03-20T16:28:41.811Z"
   },
   {
    "duration": 25,
    "start_time": "2023-03-20T16:28:42.712Z"
   },
   {
    "duration": 6,
    "start_time": "2023-03-20T16:28:42.740Z"
   },
   {
    "duration": 164,
    "start_time": "2023-03-20T16:28:42.748Z"
   },
   {
    "duration": 20,
    "start_time": "2023-03-20T16:28:42.915Z"
   },
   {
    "duration": 117,
    "start_time": "2023-03-20T16:28:42.937Z"
   },
   {
    "duration": 4,
    "start_time": "2023-03-20T16:28:43.055Z"
   },
   {
    "duration": 67105,
    "start_time": "2023-03-20T16:28:43.060Z"
   },
   {
    "duration": 135,
    "start_time": "2023-03-20T16:29:50.168Z"
   },
   {
    "duration": 1017,
    "start_time": "2023-03-20T16:29:50.307Z"
   },
   {
    "duration": 0,
    "start_time": "2023-03-20T16:29:51.325Z"
   },
   {
    "duration": 0,
    "start_time": "2023-03-20T16:29:51.327Z"
   },
   {
    "duration": 0,
    "start_time": "2023-03-20T16:29:51.327Z"
   },
   {
    "duration": 0,
    "start_time": "2023-03-20T16:29:51.329Z"
   },
   {
    "duration": 0,
    "start_time": "2023-03-20T16:29:51.329Z"
   },
   {
    "duration": 0,
    "start_time": "2023-03-20T16:29:51.331Z"
   },
   {
    "duration": 0,
    "start_time": "2023-03-20T16:29:51.332Z"
   },
   {
    "duration": 0,
    "start_time": "2023-03-20T16:29:51.332Z"
   },
   {
    "duration": 0,
    "start_time": "2023-03-20T16:29:51.334Z"
   },
   {
    "duration": 0,
    "start_time": "2023-03-20T16:29:51.335Z"
   },
   {
    "duration": 0,
    "start_time": "2023-03-20T16:29:51.336Z"
   },
   {
    "duration": 0,
    "start_time": "2023-03-20T16:29:51.337Z"
   },
   {
    "duration": 2733,
    "start_time": "2023-03-20T16:35:39.040Z"
   },
   {
    "duration": 3208,
    "start_time": "2023-03-20T16:36:01.303Z"
   },
   {
    "duration": 3058,
    "start_time": "2023-03-20T16:36:12.198Z"
   },
   {
    "duration": 2846,
    "start_time": "2023-03-20T16:36:16.618Z"
   },
   {
    "duration": 3665,
    "start_time": "2023-03-20T16:36:32.862Z"
   },
   {
    "duration": 3636,
    "start_time": "2023-03-20T16:36:42.168Z"
   },
   {
    "duration": 2225,
    "start_time": "2023-03-20T16:37:18.928Z"
   },
   {
    "duration": 101,
    "start_time": "2023-03-20T16:39:26.581Z"
   },
   {
    "duration": 2210,
    "start_time": "2023-03-20T16:39:27.102Z"
   },
   {
    "duration": 2807,
    "start_time": "2023-03-20T16:39:38.329Z"
   },
   {
    "duration": 22,
    "start_time": "2023-03-20T16:40:15.572Z"
   },
   {
    "duration": 63,
    "start_time": "2023-03-20T16:42:41.625Z"
   },
   {
    "duration": 3,
    "start_time": "2023-03-20T16:42:47.166Z"
   },
   {
    "duration": 35,
    "start_time": "2023-03-20T16:42:47.301Z"
   },
   {
    "duration": 268,
    "start_time": "2023-03-20T16:42:47.435Z"
   },
   {
    "duration": 632,
    "start_time": "2023-03-20T16:42:49.877Z"
   },
   {
    "duration": 38983,
    "start_time": "2023-03-20T16:42:55.455Z"
   },
   {
    "duration": 20912,
    "start_time": "2023-03-20T16:44:56.210Z"
   },
   {
    "duration": 20955,
    "start_time": "2023-03-20T16:45:19.912Z"
   },
   {
    "duration": 145,
    "start_time": "2023-03-20T16:46:16.759Z"
   },
   {
    "duration": 6351,
    "start_time": "2023-03-20T16:46:22.902Z"
   },
   {
    "duration": 56547,
    "start_time": "2023-03-20T16:46:30.201Z"
   },
   {
    "duration": 1367,
    "start_time": "2023-03-20T17:24:25.444Z"
   },
   {
    "duration": 772,
    "start_time": "2023-03-20T17:24:26.813Z"
   },
   {
    "duration": 29,
    "start_time": "2023-03-20T17:24:27.586Z"
   },
   {
    "duration": 18,
    "start_time": "2023-03-20T17:24:27.617Z"
   },
   {
    "duration": 137,
    "start_time": "2023-03-20T17:24:27.637Z"
   },
   {
    "duration": 20,
    "start_time": "2023-03-20T17:24:27.776Z"
   },
   {
    "duration": 100,
    "start_time": "2023-03-20T17:24:27.797Z"
   },
   {
    "duration": 3,
    "start_time": "2023-03-20T17:24:27.898Z"
   },
   {
    "duration": 59375,
    "start_time": "2023-03-20T17:24:27.903Z"
   },
   {
    "duration": 96,
    "start_time": "2023-03-20T17:25:27.279Z"
   },
   {
    "duration": 2245,
    "start_time": "2023-03-20T17:25:27.376Z"
   },
   {
    "duration": 51,
    "start_time": "2023-03-20T17:25:29.623Z"
   },
   {
    "duration": 2230,
    "start_time": "2023-03-20T17:25:29.676Z"
   },
   {
    "duration": 4,
    "start_time": "2023-03-20T17:25:31.910Z"
   },
   {
    "duration": 54,
    "start_time": "2023-03-20T17:25:31.916Z"
   },
   {
    "duration": 170,
    "start_time": "2023-03-20T17:25:31.972Z"
   },
   {
    "duration": 424,
    "start_time": "2023-03-20T17:25:32.144Z"
   },
   {
    "duration": 1094369,
    "start_time": "2023-03-20T17:25:32.570Z"
   },
   {
    "duration": 25865,
    "start_time": "2023-03-20T17:43:46.940Z"
   },
   {
    "duration": 49433,
    "start_time": "2023-03-20T17:44:12.807Z"
   },
   {
    "duration": 1446,
    "start_time": "2023-03-20T17:45:37.168Z"
   },
   {
    "duration": 790,
    "start_time": "2023-03-20T17:45:38.616Z"
   },
   {
    "duration": 29,
    "start_time": "2023-03-20T17:45:39.408Z"
   },
   {
    "duration": 7,
    "start_time": "2023-03-20T17:45:39.439Z"
   },
   {
    "duration": 130,
    "start_time": "2023-03-20T17:45:39.448Z"
   },
   {
    "duration": 32,
    "start_time": "2023-03-20T17:45:39.580Z"
   },
   {
    "duration": 113,
    "start_time": "2023-03-20T17:45:39.613Z"
   },
   {
    "duration": 3,
    "start_time": "2023-03-20T17:45:39.727Z"
   },
   {
    "duration": 60627,
    "start_time": "2023-03-20T17:45:39.732Z"
   },
   {
    "duration": 98,
    "start_time": "2023-03-20T17:46:40.361Z"
   },
   {
    "duration": 2295,
    "start_time": "2023-03-20T17:46:40.461Z"
   },
   {
    "duration": 84,
    "start_time": "2023-03-20T17:46:42.758Z"
   },
   {
    "duration": 2143,
    "start_time": "2023-03-20T17:46:42.844Z"
   },
   {
    "duration": 2,
    "start_time": "2023-03-20T17:46:44.990Z"
   },
   {
    "duration": 22,
    "start_time": "2023-03-20T17:46:44.994Z"
   },
   {
    "duration": 166,
    "start_time": "2023-03-20T17:46:45.018Z"
   },
   {
    "duration": 459,
    "start_time": "2023-03-20T17:46:45.186Z"
   },
   {
    "duration": 1594,
    "start_time": "2023-03-22T14:35:26.124Z"
   },
   {
    "duration": 2828,
    "start_time": "2023-03-22T14:35:27.720Z"
   },
   {
    "duration": 30,
    "start_time": "2023-03-22T14:35:30.551Z"
   },
   {
    "duration": 37,
    "start_time": "2023-03-22T14:35:30.584Z"
   },
   {
    "duration": 166,
    "start_time": "2023-03-22T14:35:30.623Z"
   },
   {
    "duration": 20,
    "start_time": "2023-03-22T14:35:30.790Z"
   },
   {
    "duration": 156,
    "start_time": "2023-03-22T14:35:30.812Z"
   },
   {
    "duration": 4,
    "start_time": "2023-03-22T14:35:30.970Z"
   },
   {
    "duration": 60466,
    "start_time": "2023-03-22T14:35:30.976Z"
   },
   {
    "duration": 80,
    "start_time": "2023-03-22T14:36:31.444Z"
   },
   {
    "duration": 2128,
    "start_time": "2023-03-22T14:36:31.526Z"
   },
   {
    "duration": 51,
    "start_time": "2023-03-22T14:36:33.655Z"
   },
   {
    "duration": 2046,
    "start_time": "2023-03-22T14:36:33.708Z"
   },
   {
    "duration": 3,
    "start_time": "2023-03-22T14:36:35.756Z"
   },
   {
    "duration": 19,
    "start_time": "2023-03-22T14:36:35.760Z"
   },
   {
    "duration": 153,
    "start_time": "2023-03-22T14:36:35.780Z"
   },
   {
    "duration": 366,
    "start_time": "2023-03-22T14:36:35.934Z"
   },
   {
    "duration": 208329,
    "start_time": "2023-03-22T14:36:36.302Z"
   },
   {
    "duration": 26857,
    "start_time": "2023-03-22T14:40:04.633Z"
   },
   {
    "duration": 49517,
    "start_time": "2023-03-22T14:40:31.492Z"
   },
   {
    "duration": 4615,
    "start_time": "2023-03-22T14:41:21.010Z"
   },
   {
    "duration": 505,
    "start_time": "2023-03-22T14:41:25.627Z"
   },
   {
    "duration": 4,
    "start_time": "2023-03-22T14:41:26.134Z"
   },
   {
    "duration": 26318,
    "start_time": "2023-03-22T14:41:26.139Z"
   },
   {
    "duration": 118,
    "start_time": "2023-03-22T14:41:52.459Z"
   },
   {
    "duration": 4,
    "start_time": "2023-03-22T14:41:52.579Z"
   },
   {
    "duration": 49178,
    "start_time": "2023-03-22T14:41:52.585Z"
   },
   {
    "duration": 747,
    "start_time": "2023-03-22T14:42:41.767Z"
   },
   {
    "duration": 8,
    "start_time": "2023-03-22T14:42:42.515Z"
   },
   {
    "duration": 20,
    "start_time": "2023-03-22T14:42:42.525Z"
   },
   {
    "duration": 114,
    "start_time": "2023-03-22T14:42:42.547Z"
   }
  ],
  "kernelspec": {
   "display_name": "Python 3 (ipykernel)",
   "language": "python",
   "name": "python3"
  },
  "language_info": {
   "codemirror_mode": {
    "name": "ipython",
    "version": 3
   },
   "file_extension": ".py",
   "mimetype": "text/x-python",
   "name": "python",
   "nbconvert_exporter": "python",
   "pygments_lexer": "ipython3",
   "version": "3.9.13"
  },
  "toc": {
   "base_numbering": 1,
   "nav_menu": {},
   "number_sections": true,
   "sideBar": true,
   "skip_h1_title": true,
   "title_cell": "Table of Contents",
   "title_sidebar": "Contents",
   "toc_cell": true,
   "toc_position": {},
   "toc_section_display": true,
   "toc_window_display": false
  }
 },
 "nbformat": 4,
 "nbformat_minor": 5
}
